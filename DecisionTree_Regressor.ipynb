{
 "cells": [
  {
   "cell_type": "code",
   "execution_count": 36,
   "metadata": {},
   "outputs": [],
   "source": [
    "from sklearn.model_selection import GridSearchCV\n",
    "from sklearn.tree import DecisionTreeRegressor\n",
    "from sklearn.metrics import r2_score\n",
    "from sklearn.model_selection import train_test_split\n",
    "import pandas as pd\n",
    "import matplotlib.pyplot as plt\n",
    "import numpy as np\n",
    "from sklearn.metrics import mean_squared_error"
   ]
  },
  {
   "cell_type": "code",
   "execution_count": 2,
   "metadata": {},
   "outputs": [],
   "source": [
    "data = pd.read_csv('house_pricing.csv')"
   ]
  },
  {
   "cell_type": "code",
   "execution_count": 8,
   "metadata": {},
   "outputs": [],
   "source": [
    "X = data.iloc[:, :-1] # all the rows, all the columns except the last one\n",
    "y = data.iloc[:, -1]  # all the rows, only the last column"
   ]
  },
  {
   "cell_type": "code",
   "execution_count": 10,
   "metadata": {},
   "outputs": [],
   "source": [
    "# Split the dataset into train and test\n",
    "# test_size=0.3 means 70% of dataset for training and remaining 30% for testing\n",
    "# random_state(random_state = 1 or anyvalue) everytime the result will be same,i.e, same values in train and test datasets.\n",
    "X_train, X_test, y_train, y_test = train_test_split(X, y, test_size=0.3, random_state=9)"
   ]
  },
  {
   "cell_type": "code",
   "execution_count": 28,
   "metadata": {},
   "outputs": [],
   "source": [
    "param_grid = {'max_depth': [2, 3, 5, 6, 8, 10, 15, 20, 30, 50],\n",
    "              'max_leaf_nodes': [2, 3, 4, 5, 10, 15, 20],\n",
    "              'max_features': [4, 8, 20, 25]}"
   ]
  },
  {
   "cell_type": "code",
   "execution_count": 29,
   "metadata": {},
   "outputs": [],
   "source": [
    "dtc = DecisionTreeRegressor(random_state= 9)\n",
    "gscv = GridSearchCV(dtc, param_grid, cv = 5, scoring = 'r2')\n",
    "gscv.fit(X_train, y_train)\n",
    "y_predict = gscv.predict(X_test)\n",
    "r2 = r2_score(y_test, y_predict)"
   ]
  },
  {
   "cell_type": "code",
   "execution_count": 30,
   "metadata": {},
   "outputs": [
    {
     "name": "stdout",
     "output_type": "stream",
     "text": [
      "0.5972774635868003 {'max_depth': 3, 'max_features': 25, 'max_leaf_nodes': 20} DecisionTreeRegressor(criterion='mse', max_depth=3, max_features=25,\n",
      "           max_leaf_nodes=20, min_impurity_decrease=0.0,\n",
      "           min_impurity_split=None, min_samples_leaf=1,\n",
      "           min_samples_split=2, min_weight_fraction_leaf=0.0,\n",
      "           presort=False, random_state=9, splitter='best')\n"
     ]
    }
   ],
   "source": [
    "print(r2, gscv.best_params_, gscv.best_estimator_)"
   ]
  },
  {
   "cell_type": "markdown",
   "metadata": {},
   "source": [
    "# Observing variation between error and max depth\n",
    "If we can observe what is actually happening as we increase the maximum depth( the length of the longest path from a root to a leaf) along with the variation in errors we can get to know of that how depth is having an effect over error."
   ]
  },
  {
   "cell_type": "code",
   "execution_count": 32,
   "metadata": {},
   "outputs": [],
   "source": [
    "depth_list = [2, 8, 10, 15, 20, 25, 30, 35, 45, 50, 80]"
   ]
  },
  {
   "cell_type": "code",
   "execution_count": 33,
   "metadata": {},
   "outputs": [],
   "source": [
    "mse_train = []\n",
    "mse_test = []"
   ]
  },
  {
   "cell_type": "code",
   "execution_count": 37,
   "metadata": {},
   "outputs": [],
   "source": [
    "for d in depth_list:\n",
    "        clf = DecisionTreeRegressor(random_state = 9, max_depth = d)\n",
    "        clf.fit(X_train, y_train)\n",
    "        mse_test.append(mean_squared_error(y_test, clf.predict(X_test)))\n",
    "        mse_train.append(mean_squared_error(y_train, clf.predict(X_train)))"
   ]
  },
  {
   "cell_type": "code",
   "execution_count": 39,
   "metadata": {},
   "outputs": [
    {
     "data": {
      "text/plain": [
       "Text(0, 0.5, 'MSE')"
      ]
     },
     "execution_count": 39,
     "metadata": {},
     "output_type": "execute_result"
    },
    {
     "data": {
      "image/png": "[encoded data removed]",
      "text/plain": [
       "<Figure size 432x288 with 1 Axes>"
      ]
     },
     "metadata": {
      "needs_background": "light"
     },
     "output_type": "display_data"
    }
   ],
   "source": [
    "fig, ax = plt.subplots()\n",
    "ax.plot(depth_list, mse_train, label = 'Train Set')\n",
    "ax.plot(depth_list, mse_test, label = 'Test Set')\n",
    "ax.legend()\n",
    "plt.xlabel('Depth')\n",
    "plt.ylabel('MSE')"
   ]
  },
  {
   "cell_type": "code",
   "execution_count": null,
   "metadata": {},
   "outputs": [],
   "source": []
  }
 ],
 "metadata": {
  "kernelspec": {
   "display_name": "Python 3",
   "language": "python",
   "name": "python3"
  },
  "language_info": {
   "codemirror_mode": {
    "name": "ipython",
    "version": 3
   },
   "file_extension": ".py",
   "mimetype": "text/x-python",
   "name": "python",
   "nbconvert_exporter": "python",
   "pygments_lexer": "ipython3",
   "version": "3.7.3"
  }
 },
 "nbformat": 4,
 "nbformat_minor": 2
}
